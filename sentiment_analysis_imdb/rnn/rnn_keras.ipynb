{
  "nbformat": 4,
  "nbformat_minor": 0,
  "metadata": {
    "colab": {
      "name": "rnn_keras.ipynb",
      "provenance": []
    },
    "kernelspec": {
      "name": "python3",
      "display_name": "Python 3"
    },
    "language_info": {
      "name": "python"
    }
  },
  "cells": [
    {
      "cell_type": "code",
      "metadata": {
        "id": "D98cPRf7ImCX"
      },
      "source": [
        "import keras # importing keras\n",
        "from keras.datasets import imdb # imbd is the dataset for sentiment classification\n",
        "from keras.preprocessing.sequence import pad_sequences # padding sequence\n",
        "from keras.models import Sequential \n",
        "from keras.layers import Dense, Dropout, Embedding, SpatialDropout1D\n",
        "from keras.layers import SimpleRNN \n",
        "from keras.callbacks import ModelCheckpoint\n",
        "import os\n",
        "from sklearn.metrics import roc_auc_score # roc_auc_score \n",
        "import matplotlib.pyplot as plt \n",
        "%matplotlib inline\n",
        "import warnings \n",
        "warnings.filterwarnings(\"ignore\")"
      ],
      "execution_count": 4,
      "outputs": []
    },
    {
      "cell_type": "code",
      "metadata": {
        "id": "qWuY1LoHIvuB"
      },
      "source": [
        "# training:\n",
        "epochs = 16 # way more!\n",
        "batch_size = 128\n",
        "\n",
        "# vector-space embedding: \n",
        "n_dim = 64 \n",
        "n_unique_words = 10000 \n",
        "max_review_length = 100 # lowered due to vanishing gradient over time\n",
        "pad_type = trunc_type = 'pre'\n",
        "drop_embed = 0.2 \n",
        "\n",
        "# RNN layer architecture:\n",
        "n_rnn = 256 \n",
        "drop_rnn = 0.2"
      ],
      "execution_count": 5,
      "outputs": []
    },
    {
      "cell_type": "code",
      "metadata": {
        "id": "Pld37Um5JAGg"
      },
      "source": [
        "(x_train, y_train), (x_valid, y_valid) = imdb.load_data(num_words=n_unique_words) # removed n_words_to_skip"
      ],
      "execution_count": 6,
      "outputs": []
    },
    {
      "cell_type": "code",
      "metadata": {
        "id": "lLBT2OC_JC_n"
      },
      "source": [
        "x_train = pad_sequences(x_train, maxlen=max_review_length, padding=pad_type, truncating=trunc_type, value=0)\n",
        "x_valid = pad_sequences(x_valid, maxlen=max_review_length, padding=pad_type, truncating=trunc_type, value=0)"
      ],
      "execution_count": 7,
      "outputs": []
    },
    {
      "cell_type": "code",
      "metadata": {
        "id": "Y_Kc-DorJMeA"
      },
      "source": [
        "model = Sequential()\n",
        "model.add(Embedding(n_unique_words, n_dim, input_length=max_review_length)) \n",
        "model.add(SpatialDropout1D(drop_embed))\n",
        "model.add(SimpleRNN(n_rnn, dropout=drop_rnn))\n",
        "# model.add(Dense(n_dense, activation='relu')) # typically don't see top dense layer in NLP like in \n",
        "# model.add(Dropout(dropout))\n",
        "model.add(Dense(1, activation='sigmoid'))"
      ],
      "execution_count": 8,
      "outputs": []
    },
    {
      "cell_type": "code",
      "metadata": {
        "colab": {
          "base_uri": "https://localhost:8080/"
        },
        "id": "7pSVoqtaJPN_",
        "outputId": "49b12c15-330e-429a-8ac6-5fbbb2c27a61"
      },
      "source": [
        "model.summary()"
      ],
      "execution_count": 9,
      "outputs": [
        {
          "output_type": "stream",
          "text": [
            "Model: \"sequential\"\n",
            "_________________________________________________________________\n",
            "Layer (type)                 Output Shape              Param #   \n",
            "=================================================================\n",
            "embedding (Embedding)        (None, 100, 64)           640000    \n",
            "_________________________________________________________________\n",
            "spatial_dropout1d (SpatialDr (None, 100, 64)           0         \n",
            "_________________________________________________________________\n",
            "simple_rnn (SimpleRNN)       (None, 256)               82176     \n",
            "_________________________________________________________________\n",
            "dense (Dense)                (None, 1)                 257       \n",
            "=================================================================\n",
            "Total params: 722,433\n",
            "Trainable params: 722,433\n",
            "Non-trainable params: 0\n",
            "_________________________________________________________________\n"
          ],
          "name": "stdout"
        }
      ]
    },
    {
      "cell_type": "code",
      "metadata": {
        "id": "BA4jEg-lJRLn"
      },
      "source": [
        "model.compile(loss='binary_crossentropy', optimizer='adam', metrics=['accuracy'])"
      ],
      "execution_count": 10,
      "outputs": []
    },
    {
      "cell_type": "code",
      "metadata": {
        "id": "Mnr7YdxHJTtv"
      },
      "source": [
        "modelcheckpoint = ModelCheckpoint(filepath=\"/weights.{epoch:02d}.hdf5\")"
      ],
      "execution_count": 12,
      "outputs": []
    },
    {
      "cell_type": "code",
      "metadata": {
        "colab": {
          "base_uri": "https://localhost:8080/"
        },
        "id": "L8o7BWeZJl8T",
        "outputId": "68829728-92e2-4619-b9bd-fe7eea2c2f53"
      },
      "source": [
        "\n",
        "# 80.6% validation accuracy in epoch 4\n",
        "model.fit(x_train, y_train, batch_size=batch_size, epochs=epochs, verbose=1, validation_data=(x_valid, y_valid), callbacks=[modelcheckpoint])"
      ],
      "execution_count": 13,
      "outputs": [
        {
          "output_type": "stream",
          "text": [
            "Epoch 1/16\n",
            "196/196 [==============================] - 93s 346ms/step - loss: 0.6951 - accuracy: 0.5100 - val_loss: 0.6507 - val_accuracy: 0.5951\n",
            "Epoch 2/16\n",
            "196/196 [==============================] - 67s 340ms/step - loss: 0.6077 - accuracy: 0.6660 - val_loss: 0.6189 - val_accuracy: 0.6496\n",
            "Epoch 3/16\n",
            "196/196 [==============================] - 69s 351ms/step - loss: 0.5227 - accuracy: 0.7408 - val_loss: 0.5158 - val_accuracy: 0.7816\n",
            "Epoch 4/16\n",
            "196/196 [==============================] - 67s 343ms/step - loss: 0.5386 - accuracy: 0.7376 - val_loss: 0.4114 - val_accuracy: 0.8152\n",
            "Epoch 5/16\n",
            "196/196 [==============================] - 67s 342ms/step - loss: 0.3648 - accuracy: 0.8448 - val_loss: 0.4231 - val_accuracy: 0.8200\n",
            "Epoch 6/16\n",
            "196/196 [==============================] - 66s 339ms/step - loss: 0.4752 - accuracy: 0.7629 - val_loss: 0.6289 - val_accuracy: 0.6308\n",
            "Epoch 7/16\n",
            "196/196 [==============================] - 67s 342ms/step - loss: 0.5219 - accuracy: 0.7463 - val_loss: 0.9768 - val_accuracy: 0.5494\n",
            "Epoch 8/16\n",
            "196/196 [==============================] - 67s 341ms/step - loss: 0.5627 - accuracy: 0.7094 - val_loss: 0.5560 - val_accuracy: 0.7287\n",
            "Epoch 9/16\n",
            "196/196 [==============================] - 67s 342ms/step - loss: 0.4550 - accuracy: 0.7899 - val_loss: 0.6185 - val_accuracy: 0.6602\n",
            "Epoch 10/16\n",
            "196/196 [==============================] - 67s 344ms/step - loss: 0.4416 - accuracy: 0.7951 - val_loss: 0.6568 - val_accuracy: 0.6082\n",
            "Epoch 11/16\n",
            "196/196 [==============================] - 66s 339ms/step - loss: 0.4671 - accuracy: 0.7723 - val_loss: 0.6338 - val_accuracy: 0.7174\n",
            "Epoch 12/16\n",
            "196/196 [==============================] - 69s 351ms/step - loss: 0.4013 - accuracy: 0.8190 - val_loss: 0.5483 - val_accuracy: 0.7617\n",
            "Epoch 13/16\n",
            "196/196 [==============================] - 67s 340ms/step - loss: 0.3475 - accuracy: 0.8493 - val_loss: 0.9448 - val_accuracy: 0.5902\n",
            "Epoch 14/16\n",
            "196/196 [==============================] - 66s 338ms/step - loss: 0.4307 - accuracy: 0.7961 - val_loss: 0.6758 - val_accuracy: 0.6548\n",
            "Epoch 15/16\n",
            "196/196 [==============================] - 67s 340ms/step - loss: 0.3450 - accuracy: 0.8538 - val_loss: 0.6365 - val_accuracy: 0.6945\n",
            "Epoch 16/16\n",
            "196/196 [==============================] - 66s 338ms/step - loss: 0.3014 - accuracy: 0.8724 - val_loss: 0.6457 - val_accuracy: 0.7327\n"
          ],
          "name": "stdout"
        },
        {
          "output_type": "execute_result",
          "data": {
            "text/plain": [
              "<keras.callbacks.History at 0x7f5c2be5e250>"
            ]
          },
          "metadata": {
            "tags": []
          },
          "execution_count": 13
        }
      ]
    },
    {
      "cell_type": "code",
      "metadata": {
        "id": "lhp2t58ZLMqu"
      },
      "source": [
        "model.load_weights(\"/weights.16.hdf5\")"
      ],
      "execution_count": 15,
      "outputs": []
    },
    {
      "cell_type": "code",
      "metadata": {
        "id": "W2piqFTmJqnP"
      },
      "source": [
        "y_hat = model.predict_proba(x_valid)"
      ],
      "execution_count": 16,
      "outputs": []
    },
    {
      "cell_type": "code",
      "metadata": {
        "colab": {
          "base_uri": "https://localhost:8080/",
          "height": 265
        },
        "id": "LAMwxMXyLNMU",
        "outputId": "a784b3fb-132d-4aaa-e50f-cd4b0995dc84"
      },
      "source": [
        "plt.hist(y_hat)\n",
        "_ = plt.axvline(x=0.5, color='orange')"
      ],
      "execution_count": 17,
      "outputs": [
        {
          "output_type": "display_data",
          "data": {
            "image/png": "[encoded data removed]",
            "text/plain": [
              "<Figure size 432x288 with 1 Axes>"
            ]
          },
          "metadata": {
            "tags": [],
            "needs_background": "light"
          }
        }
      ]
    },
    {
      "cell_type": "code",
      "metadata": {
        "colab": {
          "base_uri": "https://localhost:8080/",
          "height": 35
        },
        "id": "MnugVnHgLQ0-",
        "outputId": "c5123785-0632-4526-8cd0-83bc1bb1cfbb"
      },
      "source": [
        "\"{:0.2f}\".format(roc_auc_score(y_valid, y_hat)*100.0)"
      ],
      "execution_count": 18,
      "outputs": [
        {
          "output_type": "execute_result",
          "data": {
            "application/vnd.google.colaboratory.intrinsic+json": {
              "type": "string"
            },
            "text/plain": [
              "'79.26'"
            ]
          },
          "metadata": {
            "tags": []
          },
          "execution_count": 18
        }
      ]
    }
  ]
}