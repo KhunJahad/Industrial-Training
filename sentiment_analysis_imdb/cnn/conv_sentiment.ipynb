{
  "nbformat": 4,
  "nbformat_minor": 0,
  "metadata": {
    "colab": {
      "name": "conv_sentiment.ipynb",
      "provenance": []
    },
    "kernelspec": {
      "name": "python3",
      "display_name": "Python 3"
    },
    "language_info": {
      "name": "python"
    }
  },
  "cells": [
    {
      "cell_type": "code",
      "metadata": {
        "id": "ezwiHOcJPCFo"
      },
      "source": [
        "import keras\n",
        "from keras.datasets import imdb\n",
        "from keras.preprocessing.sequence import pad_sequences\n",
        "from keras.models import Sequential\n",
        "from keras.layers import Dense, Dropout, Embedding\n",
        "from keras.layers import SpatialDropout1D, Conv1D, GlobalMaxPooling1D # new! \n",
        "from keras.callbacks import ModelCheckpoint\n",
        "import os\n",
        "from sklearn.metrics import roc_auc_score \n",
        "import matplotlib.pyplot as plt \n",
        "%matplotlib inline\n",
        "import warnings\n",
        "warnings.filterwarnings(\"ignore\")"
      ],
      "execution_count": 19,
      "outputs": []
    },
    {
      "cell_type": "code",
      "metadata": {
        "id": "f8LNzxDCP3RP"
      },
      "source": [
        "# training:\n",
        "epochs = 4\n",
        "batch_size = 128\n",
        "\n",
        "# vector-space embedding: \n",
        "n_dim = 64\n",
        "n_unique_words = 5000 \n",
        "max_review_length = 400\n",
        "pad_type = trunc_type = 'pre'\n",
        "drop_embed = 0.2 # new!\n",
        "\n",
        "# convolutional layer architecture:\n",
        "n_conv = 256 # filters, a.k.a. kernels\n",
        "k_conv = 3 # kernel length\n",
        "\n",
        "# dense layer architecture: \n",
        "n_dense = 256\n",
        "dropout = 0.2"
      ],
      "execution_count": 15,
      "outputs": []
    },
    {
      "cell_type": "code",
      "metadata": {
        "id": "8cjRfFXiP68-"
      },
      "source": [
        "(x_train, y_train), (x_valid, y_valid) = imdb.load_data(num_words=n_unique_words) # removed n_words_to_skip\n",
        "\n",
        "\n",
        "x_train = pad_sequences(x_train, maxlen=max_review_length, padding=pad_type, truncating=trunc_type, value=0)\n",
        "x_valid = pad_sequences(x_valid, maxlen=max_review_length, padding=pad_type, truncating=trunc_type, value=0)"
      ],
      "execution_count": 16,
      "outputs": []
    },
    {
      "cell_type": "code",
      "metadata": {
        "id": "fjP4MPfOQGDd"
      },
      "source": [
        "model = Sequential()\n",
        "model.add(Embedding(n_unique_words, n_dim, input_length=max_review_length)) \n",
        "model.add(SpatialDropout1D(drop_embed))\n",
        "model.add(Conv1D(n_conv, k_conv, activation='relu'))\n",
        "# model.add(Conv1D(n_conv, k_conv, activation='relu'))\n",
        "model.add(GlobalMaxPooling1D())\n",
        "model.add(Dense(n_dense, activation='relu'))\n",
        "model.add(Dropout(dropout))\n",
        "model.add(Dense(1, activation='sigmoid'))"
      ],
      "execution_count": 20,
      "outputs": []
    },
    {
      "cell_type": "code",
      "metadata": {
        "colab": {
          "base_uri": "https://localhost:8080/"
        },
        "id": "ioOCKKDfQIhF",
        "outputId": "0aceb2e7-9d53-4ddf-827c-4b38cb955d3c"
      },
      "source": [
        "model.summary()"
      ],
      "execution_count": 21,
      "outputs": [
        {
          "output_type": "stream",
          "text": [
            "Model: \"sequential_2\"\n",
            "_________________________________________________________________\n",
            "Layer (type)                 Output Shape              Param #   \n",
            "=================================================================\n",
            "embedding_2 (Embedding)      (None, 400, 64)           320000    \n",
            "_________________________________________________________________\n",
            "spatial_dropout1d_2 (Spatial (None, 400, 64)           0         \n",
            "_________________________________________________________________\n",
            "conv1d (Conv1D)              (None, 398, 256)          49408     \n",
            "_________________________________________________________________\n",
            "global_max_pooling1d (Global (None, 256)               0         \n",
            "_________________________________________________________________\n",
            "dense_1 (Dense)              (None, 256)               65792     \n",
            "_________________________________________________________________\n",
            "dropout (Dropout)            (None, 256)               0         \n",
            "_________________________________________________________________\n",
            "dense_2 (Dense)              (None, 1)                 257       \n",
            "=================================================================\n",
            "Total params: 435,457\n",
            "Trainable params: 435,457\n",
            "Non-trainable params: 0\n",
            "_________________________________________________________________\n"
          ],
          "name": "stdout"
        }
      ]
    },
    {
      "cell_type": "code",
      "metadata": {
        "id": "izIGJ4OYQKDU"
      },
      "source": [
        "model.compile(loss='binary_crossentropy', optimizer='adam', metrics=['accuracy'])"
      ],
      "execution_count": 22,
      "outputs": []
    },
    {
      "cell_type": "code",
      "metadata": {
        "id": "KvyOGlYwQMC8"
      },
      "source": [
        "modelcheckpoint = ModelCheckpoint(filepath=\"/weights_conv.{epoch:02d}.hdf5\")"
      ],
      "execution_count": 23,
      "outputs": []
    },
    {
      "cell_type": "code",
      "metadata": {
        "colab": {
          "base_uri": "https://localhost:8080/"
        },
        "id": "_lFX0IzSQQJS",
        "outputId": "59d1e827-e640-43e6-922d-bb66f4d8c12d"
      },
      "source": [
        "model.fit(x_train, y_train, batch_size=batch_size, epochs=epochs, verbose=1, validation_data=(x_valid, y_valid), callbacks=[modelcheckpoint])"
      ],
      "execution_count": 24,
      "outputs": [
        {
          "output_type": "stream",
          "text": [
            "Epoch 1/4\n",
            "196/196 [==============================] - 98s 491ms/step - loss: 0.6212 - accuracy: 0.6132 - val_loss: 0.3053 - val_accuracy: 0.8705\n",
            "Epoch 2/4\n",
            "196/196 [==============================] - 96s 490ms/step - loss: 0.2620 - accuracy: 0.8957 - val_loss: 0.2600 - val_accuracy: 0.8910\n",
            "Epoch 3/4\n",
            "196/196 [==============================] - 96s 489ms/step - loss: 0.1748 - accuracy: 0.9334 - val_loss: 0.2877 - val_accuracy: 0.8828\n",
            "Epoch 4/4\n",
            "196/196 [==============================] - 96s 491ms/step - loss: 0.1148 - accuracy: 0.9610 - val_loss: 0.3263 - val_accuracy: 0.8812\n"
          ],
          "name": "stdout"
        },
        {
          "output_type": "execute_result",
          "data": {
            "text/plain": [
              "<keras.callbacks.History at 0x7f2c09cecad0>"
            ]
          },
          "metadata": {
            "tags": []
          },
          "execution_count": 24
        }
      ]
    },
    {
      "cell_type": "code",
      "metadata": {
        "id": "MylL17yMQUBM"
      },
      "source": [
        "model.load_weights(\"/weights_conv.04.hdf5\") # zero-indexed"
      ],
      "execution_count": 25,
      "outputs": []
    },
    {
      "cell_type": "code",
      "metadata": {
        "id": "t4sziGzpQWWJ"
      },
      "source": [
        "y_hat = model.predict_proba(x_valid)"
      ],
      "execution_count": 26,
      "outputs": []
    },
    {
      "cell_type": "code",
      "metadata": {
        "colab": {
          "base_uri": "https://localhost:8080/",
          "height": 268
        },
        "id": "DaNEoZVlQWTl",
        "outputId": "39e6eee5-1e3f-4f59-b505-0739505ede09"
      },
      "source": [
        "plt.hist(y_hat)\n",
        "_ = plt.axvline(x=0.5, color='orange')"
      ],
      "execution_count": 27,
      "outputs": [
        {
          "output_type": "display_data",
          "data": {
            "image/png": "[encoded data removed]",
            "text/plain": [
              "<Figure size 432x288 with 1 Axes>"
            ]
          },
          "metadata": {
            "tags": [],
            "needs_background": "light"
          }
        }
      ]
    },
    {
      "cell_type": "code",
      "metadata": {
        "colab": {
          "base_uri": "https://localhost:8080/",
          "height": 35
        },
        "id": "maWPMeqcQWQ9",
        "outputId": "2a8b2906-a096-4e37-ee82-bb024489a0c2"
      },
      "source": [
        "\"{:0.2f}\".format(roc_auc_score(y_valid, y_hat)*100.0)"
      ],
      "execution_count": 28,
      "outputs": [
        {
          "output_type": "execute_result",
          "data": {
            "application/vnd.google.colaboratory.intrinsic+json": {
              "type": "string"
            },
            "text/plain": [
              "'95.76'"
            ]
          },
          "metadata": {
            "tags": []
          },
          "execution_count": 28
        }
      ]
    },
    {
      "cell_type": "code",
      "metadata": {
        "id": "BCDNu7ikVM6z"
      },
      "source": [
        ""
      ],
      "execution_count": null,
      "outputs": []
    }
  ]
}